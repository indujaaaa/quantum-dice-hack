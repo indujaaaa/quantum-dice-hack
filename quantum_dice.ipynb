{
 "cells": [
  {
   "cell_type": "code",
   "execution_count": 142,
   "metadata": {},
   "outputs": [
    {
     "name": "stderr",
     "output_type": "stream",
     "text": [
      "ibmqfactory.load_account:WARNING:2021-02-28 19:15:19,288: Credentials are already in use. The existing account in the session will be replaced.\n"
     ]
    },
    {
     "data": {
      "text/plain": [
       "<qiskit.circuit.instructionset.InstructionSet at 0x7f95b0ccefd0>"
      ]
     },
     "execution_count": 142,
     "metadata": {},
     "output_type": "execute_result"
    }
   ],
   "source": [
    "%matplotlib inline\n",
    "# Importing standard Qiskit libraries\n",
    "from qiskit import QuantumCircuit, QuantumRegister, ClassicalRegister, execute, Aer, IBMQ\n",
    "from qiskit.compiler import transpile, assemble\n",
    "from qiskit.tools.jupyter import *\n",
    "from qiskit.visualization import *\n",
    "from ibm_quantum_widgets import *\n",
    "from qiskit.tools.monitor import job_monitor\n",
    "import time\n",
    "\n",
    "# Loading your IBM Q account(s)\n",
    "provider = IBMQ.load_account()\n",
    "\n",
    "from IPython.display import Javascript\n",
    "def window_open(url):\n",
    "    display(Javascript('window.open(\"{url}\");'.format(url=url)))\n",
    "\n",
    "# creating a circuit with 2 Qubits and 2 classical bits\n",
    "qr = QuantumRegister(3, 'q')\n",
    "cr = ClassicalRegister(3, 'c')\n",
    "circuit = QuantumCircuit(qreg_q, creg_c)\n",
    "\n",
    "# creating a superposition by applying a hadamrd gate to the qubits \n",
    "circuit.h(qr[0])\n",
    "circuit.h(qr[1])\n",
    "circuit.h(qr[2])\n",
    "\n",
    "# measuring the qubits\n",
    "circuit.measure(qr[0], cr[0]) \n",
    "circuit.measure(qr[1], cr[1])\n",
    "circuit.measure(qr[2], cr[2])"
   ]
  },
  {
   "cell_type": "code",
   "execution_count": 143,
   "metadata": {},
   "outputs": [
    {
     "name": "stdout",
     "output_type": "stream",
     "text": [
      "Schematic of Quantum Circuit\n"
     ]
    },
    {
     "data": {
      "image/png": "[encoded data removed]",
      "text/plain": [
       "<Figure size 327.397x264.88 with 1 Axes>"
      ]
     },
     "execution_count": 143,
     "metadata": {},
     "output_type": "execute_result"
    }
   ],
   "source": [
    "print('Schematic of Quantum Circuit') # visualisation of circuit using matplotlib\n",
    "circuit.draw('mpl')"
   ]
  },
  {
   "cell_type": "code",
   "execution_count": 144,
   "metadata": {
    "scrolled": true
   },
   "outputs": [
    {
     "name": "stdout",
     "output_type": "stream",
     "text": [
      "Please wait while the Quantum Computer is rolling some quantum dice...\n",
      "Job Status: job has successfully run\n",
      "Dice shows: 2\n",
      "\n",
      "Oh wait, got another roll for you...\n"
     ]
    },
    {
     "data": {
      "application/javascript": [
       "window.open(\"https://www.youtube.com/watch?v=oHg5SJYRHA0\");"
      ],
      "text/plain": [
       "<IPython.core.display.Javascript object>"
      ]
     },
     "metadata": {},
     "output_type": "display_data"
    }
   ],
   "source": [
    "from qiskit.providers.ibmq import least_busy\n",
    "\n",
    "# finding available providers and selecting the least busy quantum computers with the fewest jobs on queue\n",
    "provider = IBMQ.get_provider(hub='ibm-q')\n",
    "IBMQ.get_provider(project='main')\n",
    "\n",
    "least_busy_device = provider.backends(filters=lambda x: x.configuration().n_qubits >= 5 and not x.configuration().simulator)\n",
    "backend = least_busy(least_busy_device)\n",
    "\n",
    "backend_name = backend.name() #calling the backend\n",
    "backend_new_name = provider.get_backend(backend_name)           \n",
    "job = execute(circuit, backend, shots=1) #executing the circuit\n",
    "                               \n",
    "print('Please wait while the Quantum Computer is rolling some quantum dice...')                 \n",
    "job_monitor(job) # displays job status\n",
    "count = job.result().get_counts()\n",
    "\n",
    "# gets output from quantum computer and converts to decimal number\n",
    "result = job.result() \n",
    "bits = result.get_counts(circuit)\n",
    "bits = list(count.keys())[0]\n",
    "dice_result = int(bits, 2)\n",
    "\n",
    "import time\n",
    "\n",
    "# dice reveal!\n",
    "if dice_result == 0 or dice_result == 7:\n",
    "    print('Oof, your luck broke the quantum computer. Let me roll you something better instead.')\n",
    "    time.sleep(2)\n",
    "    window_open(\"https://www.youtube.com/watch?v=oHg5SJYRHA0\")\n",
    "else:\n",
    "    print('Dice shows:', dice_result, end='\\n\\n')\n",
    "    print('Oh wait, got another roll for you...')\n",
    "    time.sleep(2)\n",
    "    window_open(\"https://www.youtube.com/watch?v=oHg5SJYRHA0\")"
   ]
  }
 ],
 "metadata": {
  "kernelspec": {
   "display_name": "Python 3",
   "language": "python",
   "name": "python3"
  },
  "language_info": {
   "codemirror_mode": {
    "name": "ipython",
    "version": 3
   },
   "file_extension": ".py",
   "mimetype": "text/x-python",
   "name": "python",
   "nbconvert_exporter": "python",
   "pygments_lexer": "ipython3",
   "version": "3.8.6"
  },
  "widgets": {
   "application/vnd.jupyter.widget-state+json": {
    "state": {
     "0ee8c6d30b604603b1ee35d37e9daf7f": {
      "model_module": "@jupyter-widgets/controls",
      "model_module_version": "1.5.0",
      "model_name": "HTMLModel",
      "state": {
       "layout": "IPY_MODEL_e0e293319ebe4f2d9679c4d89db564ad",
       "style": "IPY_MODEL_2297fcc8a99c46f8a697fab057c3b5f1",
       "value": "<h5>Status</h5>"
      }
     },
     "1fb4475770fb4333b5ccb497209a2ccd": {
      "model_module": "@jupyter-widgets/controls",
      "model_module_version": "1.5.0",
      "model_name": "ButtonStyleModel",
      "state": {}
     },
     "2297fcc8a99c46f8a697fab057c3b5f1": {
      "model_module": "@jupyter-widgets/controls",
      "model_module_version": "1.5.0",
      "model_name": "DescriptionStyleModel",
      "state": {
       "description_width": ""
      }
     },
     "285d57ae957e4f24b716484b1d271132": {
      "model_module": "@jupyter-widgets/base",
      "model_module_version": "1.2.0",
      "model_name": "LayoutModel",
      "state": {
       "width": "145px"
      }
     },
     "4beb8d8329194cc89d450dc238c65541": {
      "model_module": "@jupyter-widgets/base",
      "model_module_version": "1.2.0",
      "model_name": "LayoutModel",
      "state": {
       "grid_area": "right",
       "padding": "0px 0px 0px 0px",
       "width": "70px"
      }
     },
     "4d933c40ec3b446d8608487a378a5aa2": {
      "model_module": "@jupyter-widgets/controls",
      "model_module_version": "1.5.0",
      "model_name": "ButtonModel",
      "state": {
       "button_style": "primary",
       "description": "Clear",
       "layout": "IPY_MODEL_4beb8d8329194cc89d450dc238c65541",
       "style": "IPY_MODEL_1fb4475770fb4333b5ccb497209a2ccd"
      }
     },
     "4dda3e2d2d544043ae8bed6da269ede3": {
      "model_module": "@jupyter-widgets/base",
      "model_module_version": "1.2.0",
      "model_name": "LayoutModel",
      "state": {
       "width": "190px"
      }
     },
     "4f5af7308572420cbec7905831ffa67d": {
      "model_module": "@jupyter-widgets/controls",
      "model_module_version": "1.5.0",
      "model_name": "DescriptionStyleModel",
      "state": {
       "description_width": ""
      }
     },
     "580838c7155a48398911ba91dcd42823": {
      "model_module": "@jupyter-widgets/controls",
      "model_module_version": "1.5.0",
      "model_name": "HBoxModel",
      "state": {
       "children": [
        "IPY_MODEL_f8ecfa72d6794526a7c6530b60eb81a6",
        "IPY_MODEL_7a42782f5f414cd3b8ca8a1e19e7d8a4",
        "IPY_MODEL_0ee8c6d30b604603b1ee35d37e9daf7f",
        "IPY_MODEL_f39ac0a529754bd285d510fd3329905f",
        "IPY_MODEL_bd685d41101b44a29d758471a25c0a85"
       ],
       "layout": "IPY_MODEL_59bd516c717a45698da1acdd8135f1df"
      }
     },
     "59bd516c717a45698da1acdd8135f1df": {
      "model_module": "@jupyter-widgets/base",
      "model_module_version": "1.2.0",
      "model_name": "LayoutModel",
      "state": {
       "margin": "0px 0px 0px 37px",
       "width": "600px"
      }
     },
     "78fb3cc3383b4312bc01bae063f19cb8": {
      "model_module": "@jupyter-widgets/controls",
      "model_module_version": "1.5.0",
      "model_name": "DescriptionStyleModel",
      "state": {
       "description_width": ""
      }
     },
     "7a42782f5f414cd3b8ca8a1e19e7d8a4": {
      "model_module": "@jupyter-widgets/controls",
      "model_module_version": "1.5.0",
      "model_name": "HTMLModel",
      "state": {
       "layout": "IPY_MODEL_285d57ae957e4f24b716484b1d271132",
       "style": "IPY_MODEL_78fb3cc3383b4312bc01bae063f19cb8",
       "value": "<h5>Backend</h5>"
      }
     },
     "7b5aabbc2de24682aa0786afa2397f25": {
      "model_module": "@jupyter-widgets/controls",
      "model_module_version": "1.5.0",
      "model_name": "HTMLModel",
      "state": {
       "layout": "IPY_MODEL_f1e8275e2abd4ab3b4286ae9f801c1df",
       "style": "IPY_MODEL_9ae41773899f4853a6168659f6454971",
       "value": "<p style='font-family: IBM Plex Sans, Arial, Helvetica, sans-serif; font-size: 20px; font-weight: medium;'>Circuit Properties</p>"
      }
     },
     "7eb72441d8a04d6faea8409ca5332090": {
      "model_module": "@jupyter-widgets/controls",
      "model_module_version": "1.5.0",
      "model_name": "GridBoxModel",
      "state": {
       "children": [
        "IPY_MODEL_4d933c40ec3b446d8608487a378a5aa2"
       ],
       "layout": "IPY_MODEL_ebfb289cbd35466e9d107277a243da71"
      }
     },
     "84f847d5da474df984c7bf5afc8c48e7": {
      "model_module": "@jupyter-widgets/controls",
      "model_module_version": "1.5.0",
      "model_name": "DescriptionStyleModel",
      "state": {
       "description_width": ""
      }
     },
     "950292e76d57464fb291f6b3b9f82d4a": {
      "model_module": "@jupyter-widgets/controls",
      "model_module_version": "1.5.0",
      "model_name": "DescriptionStyleModel",
      "state": {
       "description_width": ""
      }
     },
     "9ae41773899f4853a6168659f6454971": {
      "model_module": "@jupyter-widgets/controls",
      "model_module_version": "1.5.0",
      "model_name": "DescriptionStyleModel",
      "state": {
       "description_width": ""
      }
     },
     "9ed96819ebb44827ba178544842805cb": {
      "model_module": "@jupyter-widgets/base",
      "model_module_version": "1.2.0",
      "model_name": "LayoutModel",
      "state": {
       "width": "70px"
      }
     },
     "a9f1effd89b54db4bf1708ec48fca27f": {
      "model_module": "@jupyter-widgets/base",
      "model_module_version": "1.2.0",
      "model_name": "LayoutModel",
      "state": {}
     },
     "afadffef1bed4238b35e7672015825db": {
      "model_module": "@quantum/ibm-q-lab-widgets",
      "model_module_version": "^1.0.3",
      "model_name": "CircuitComposerModel",
      "state": {
       "_model_module_version": "^1.0.3",
       "_view_module_version": "^1.0.3",
       "circuit": "\"OPENQASM 2.0;\\ninclude \\\"qelib1.inc\\\";\\n\\nqreg q[3];\\ncreg c[3];\\n\\nh q[0];\\nh q[1];\\nh q[2];\\nmeasure q[0] -> c[0];\\nmeasure q[1] -> c[1];\\nmeasure q[2] -> c[2];\"",
       "editable": true,
       "layout": "IPY_MODEL_bbd736403cec4db39aaffe52eb54ada6",
       "qiskit_code_cell_index": -1
      }
     },
     "bbd736403cec4db39aaffe52eb54ada6": {
      "model_module": "@jupyter-widgets/base",
      "model_module_version": "1.2.0",
      "model_name": "LayoutModel",
      "state": {}
     },
     "bd685d41101b44a29d758471a25c0a85": {
      "model_module": "@jupyter-widgets/controls",
      "model_module_version": "1.5.0",
      "model_name": "HTMLModel",
      "state": {
       "layout": "IPY_MODEL_a9f1effd89b54db4bf1708ec48fca27f",
       "style": "IPY_MODEL_84f847d5da474df984c7bf5afc8c48e7",
       "value": "<h5>Message</h5>"
      }
     },
     "e0e293319ebe4f2d9679c4d89db564ad": {
      "model_module": "@jupyter-widgets/base",
      "model_module_version": "1.2.0",
      "model_name": "LayoutModel",
      "state": {
       "width": "95px"
      }
     },
     "ebfb289cbd35466e9d107277a243da71": {
      "model_module": "@jupyter-widgets/base",
      "model_module_version": "1.2.0",
      "model_name": "LayoutModel",
      "state": {
       "grid_template_areas": "\n                                       \". . . . right \"\n                                        ",
       "grid_template_columns": "20% 20% 20% 20% 20%",
       "width": "100%"
      }
     },
     "f1e8275e2abd4ab3b4286ae9f801c1df": {
      "model_module": "@jupyter-widgets/base",
      "model_module_version": "1.2.0",
      "model_name": "LayoutModel",
      "state": {
       "margin": "0px 0px 10px 0px"
      }
     },
     "f39ac0a529754bd285d510fd3329905f": {
      "model_module": "@jupyter-widgets/controls",
      "model_module_version": "1.5.0",
      "model_name": "HTMLModel",
      "state": {
       "layout": "IPY_MODEL_9ed96819ebb44827ba178544842805cb",
       "style": "IPY_MODEL_950292e76d57464fb291f6b3b9f82d4a",
       "value": "<h5>Queue</h5>"
      }
     },
     "f8ecfa72d6794526a7c6530b60eb81a6": {
      "model_module": "@jupyter-widgets/controls",
      "model_module_version": "1.5.0",
      "model_name": "HTMLModel",
      "state": {
       "layout": "IPY_MODEL_4dda3e2d2d544043ae8bed6da269ede3",
       "style": "IPY_MODEL_4f5af7308572420cbec7905831ffa67d",
       "value": "<h5>Job ID</h5>"
      }
     }
    },
    "version_major": 2,
    "version_minor": 0
   }
  }
 },
 "nbformat": 4,
 "nbformat_minor": 4
}
